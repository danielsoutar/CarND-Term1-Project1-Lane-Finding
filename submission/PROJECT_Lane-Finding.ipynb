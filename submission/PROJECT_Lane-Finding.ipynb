{
 "cells": [
  {
   "cell_type": "code",
   "execution_count": 454,
   "metadata": {
    "collapsed": true
   },
   "outputs": [],
   "source": [
    "# Do relevant imports\n",
    "import matplotlib.pyplot as plt\n",
    "import matplotlib.image as mpimg\n",
    "import numpy as np\n",
    "import cv2\n",
    "import os\n",
    "%matplotlib inline\n",
    "\n",
    "# Import everything needed to edit/save/watch video clips\n",
    "from moviepy.editor import VideoFileClip\n",
    "from IPython.display import HTML, display"
   ]
  },
  {
   "cell_type": "code",
   "execution_count": 455,
   "metadata": {
    "collapsed": true
   },
   "outputs": [],
   "source": [
    "challenge_output = '../videos/challenge_output.mp4'\n",
    "challenge = VideoFileClip(\"../videos/challenge.mp4\")"
   ]
  },
  {
   "cell_type": "code",
   "execution_count": null,
   "metadata": {
    "collapsed": true
   },
   "outputs": [],
   "source": [
    "#credit to Akash at http://akash0x53.github.io/blog/2013/04/29/RGB-Normalization/\n",
    "\n",
    "def normalised(down):\n",
    "\n",
    "        norm=np.zeros((600,800,3),np.float32)\n",
    "        norm_rgb=np.zeros((600,800,3),np.uint8)\n",
    "\n",
    "        b=rgb[:,:,0]\n",
    "        g=rgb[:,:,1]\n",
    "        r=rgb[:,:,2]\n",
    "\n",
    "        sum=b+g+r\n",
    "\n",
    "        norm[:,:,0]=b/sum*255.0\n",
    "        norm[:,:,1]=g/sum*255.0\n",
    "        norm[:,:,2]=r/sum*255.0\n",
    "\n",
    "        norm_rgb=cv2.convertScaleAbs(norm)\n",
    "        return norm_rgb"
   ]
  },
  {
   "cell_type": "code",
   "execution_count": 456,
   "metadata": {
    "collapsed": true
   },
   "outputs": [],
   "source": [
    "def gray_and_blur(x):\n",
    "    gray = cv2.cvtColor(x,cv2.COLOR_RGB2GRAY)\n",
    "    # Define a kernel size and apply Gaussian smoothing\n",
    "    kernel_size = 5\n",
    "    blurred_grayed = cv2.GaussianBlur(gray,(kernel_size, kernel_size),0)\n",
    "    return blurred_grayed"
   ]
  },
  {
   "cell_type": "code",
   "execution_count": 457,
   "metadata": {
    "collapsed": true
   },
   "outputs": [],
   "source": [
    "def apply_canny(blurred_grayed):\n",
    "    return cv2.Canny(blurred_grayed, 105, 105 * 2)"
   ]
  },
  {
   "cell_type": "code",
   "execution_count": 458,
   "metadata": {
    "collapsed": true
   },
   "outputs": [],
   "source": [
    "def get_mask(edges, shape):\n",
    "    # Next we'll create a masked edges image using cv2.fillPoly()\n",
    "    mask = np.zeros_like(edges)   \n",
    "    ignore_mask_color = 255   \n",
    "\n",
    "    # This time we are defining a four sided polygon to mask\n",
    "    vertices = np.array([[(60,shape[0]),((shape[1]/2)-20, shape[0]/2+60), ((shape[1]/2)+30, shape[0]/2+60), (shape[1]-60,shape[0])]], dtype=np.int32)\n",
    "    cv2.fillPoly(mask, vertices, ignore_mask_color)\n",
    "    plt.imshow(edges)\n",
    "    return cv2.bitwise_and(edges, mask)"
   ]
  },
  {
   "cell_type": "code",
   "execution_count": 459,
   "metadata": {
    "collapsed": true
   },
   "outputs": [],
   "source": [
    "def apply_hough(masked_edges, x):\n",
    "    # Define the Hough transform parameters\n",
    "    # Make a blank the same size as our image to draw on\n",
    "    rho = 2\n",
    "    theta = np.pi/180\n",
    "    threshold = 15\n",
    "    min_line_length = 5\n",
    "    max_line_gap = 10\n",
    "    \n",
    "    # Run Hough on edge detected image\n",
    "    return cv2.HoughLinesP(masked_edges, rho, theta, threshold, np.array([]),\n",
    "                            min_line_length, max_line_gap) "
   ]
  },
  {
   "cell_type": "code",
   "execution_count": 460,
   "metadata": {
    "collapsed": true
   },
   "outputs": [],
   "source": [
    "def display_region(x):\n",
    "    ysize = x.shape[0]\n",
    "    xsize = x.shape[1]\n",
    "    region_select = np.copy(x)\n",
    "                   \n",
    "    left_bottom = [0, ysize - 50]\n",
    "    right_bottom = [xsize, ysize - 50]\n",
    "    apex = [xsize/2, (ysize/2)+100]\n",
    "                   \n",
    "    # Fit lines (y=Ax+B) to identify the  3 sided region of interest\n",
    "    # np.polyfit() returns the coefficients [A, B] of the fit\n",
    "    fit_left = np.polyfit((left_bottom[0], apex[0]), (left_bottom[1], apex[1]), 1)\n",
    "    fit_right = np.polyfit((right_bottom[0], apex[0]), (right_bottom[1], apex[1]), 1)\n",
    "    fit_bottom = np.polyfit((left_bottom[0], right_bottom[0]), (left_bottom[1], right_bottom[1]), 1)\n",
    "\n",
    "    # Find the region inside the lines\n",
    "    XX, YY = np.meshgrid(np.arange(0, xsize), np.arange(0, ysize))\n",
    "    region_thresholds = (YY > (XX*fit_left[0] + fit_left[1])) & \\\n",
    "                        (YY > (XX*fit_right[0] + fit_right[1])) & \\\n",
    "                        (YY < (XX*fit_bottom[0] + fit_bottom[1]))\n",
    "\n",
    "    # Color pixels red which are inside the region of interest\n",
    "    region_select[region_thresholds] = [255, 0, 0]\n",
    "    return region_select"
   ]
  },
  {
   "cell_type": "code",
   "execution_count": 461,
   "metadata": {
    "collapsed": true
   },
   "outputs": [],
   "source": [
    "def annotate(x):\n",
    "    normalised = normalised(x)\n",
    "    blurred_grayed = gray_and_blur(normalised)\n",
    "    \n",
    "    edges = apply_canny(blurred_grayed)\n",
    "    \n",
    "    masked_edges = get_mask(edges, x.shape)\n",
    "    \n",
    "    lines = apply_hough(masked_edges, x)\n",
    "    line_image = np.copy(x)*0 #creating a blank to draw lines on\n",
    "\n",
    "    \n",
    "    # Iterate over the output \"lines\" and draw lines on the blank\n",
    "    for line in lines:\n",
    "        for x1,y1,x2,y2 in line:\n",
    "            cv2.line(line_image,(x1,y1),(x2,y2),(255,0,0),10)\n",
    "\n",
    "    # Draw the lines on the edge image\n",
    "    return cv2.addWeighted(x, 0.8, line_image, 1, 0)"
   ]
  },
  {
   "cell_type": "code",
   "execution_count": 462,
   "metadata": {
    "collapsed": true
   },
   "outputs": [],
   "source": [
    "for x in os.listdir(\"../images/\"):\n",
    "    if x == '.DS_Store':\n",
    "        continue\n",
    "    s = \"../images/\" + x\n",
    "    #plt.imshow(annotate(mpimg.imread(s)))\n",
    "    #plt.show()"
   ]
  }
 ],
 "metadata": {
  "kernelspec": {
   "display_name": "Python 3",
   "language": "python",
   "name": "python3"
  },
  "language_info": {
   "codemirror_mode": {
    "name": "ipython",
    "version": 3
   },
   "file_extension": ".py",
   "mimetype": "text/x-python",
   "name": "python",
   "nbconvert_exporter": "python",
   "pygments_lexer": "ipython3",
   "version": "3.5.2"
  },
  "widgets": {
   "state": {},
   "version": "1.1.2"
  }
 },
 "nbformat": 4,
 "nbformat_minor": 2
}
